{
  "nbformat": 4,
  "nbformat_minor": 0,
  "metadata": {
    "colab": {
      "provenance": [],
      "authorship_tag": "ABX9TyNeF64YkPIKTdgcAyb1139r",
      "include_colab_link": true
    },
    "kernelspec": {
      "name": "python3",
      "display_name": "Python 3"
    },
    "language_info": {
      "name": "python"
    }
  },
  "cells": [
    {
      "cell_type": "markdown",
      "metadata": {
        "id": "view-in-github",
        "colab_type": "text"
      },
      "source": [
        "<a href=\"https://colab.research.google.com/github/MaxVieiraSantiago/Machine-Learning-Projects-with-Python/blob/main/005_Grid_Search_Busca_por_Hiperpar%C3%A2metros_%C3%81rvore_de_Decis%C3%A3o.ipynb\" target=\"_parent\"><img src=\"https://colab.research.google.com/assets/colab-badge.svg\" alt=\"Open In Colab\"/></a>"
      ]
    },
    {
      "cell_type": "code",
      "execution_count": 1,
      "metadata": {
        "colab": {
          "base_uri": "https://localhost:8080/"
        },
        "id": "i6qXgV0whyTA",
        "outputId": "c2545bef-eda0-418c-a000-99a06950ac72"
      },
      "outputs": [
        {
          "output_type": "stream",
          "name": "stdout",
          "text": [
            "Mounted at /content/drive\n"
          ]
        }
      ],
      "source": [
        "from google.colab import drive\n",
        "drive.mount( '/content/drive' )"
      ]
    },
    {
      "cell_type": "code",
      "source": [
        "import pandas as pd\n",
        "import numpy as np\n",
        "from sklearn.tree import DecisionTreeClassifier\n",
        "from sklearn.metrics import accuracy_score, classification_report, confusion_matrix\n",
        "from sklearn.model_selection import train_test_split, GridSearchCV\n",
        "from sklearn.preprocessing import LabelEncoder\n",
        "from sklearn import tree"
      ],
      "metadata": {
        "id": "WhjnzdrgiiWd"
      },
      "execution_count": 2,
      "outputs": []
    },
    {
      "cell_type": "code",
      "source": [
        "url = 'https://raw.githubusercontent.com/MaxVieiraSantiago/Machine-Learning-Projects-with-Python/main/dataset/sonar.xlsx'\n",
        "dados = pd.read_excel( url )\n",
        "\n",
        "print( \"Dimensões: {0}\".format( dados.shape ))\n",
        "print( '\\nCampos: {0}'.format( dados.keys()))\n",
        "\n",
        "print( '\\n', dados.describe(), sep = '\\n' )"
      ],
      "metadata": {
        "colab": {
          "base_uri": "https://localhost:8080/"
        },
        "id": "d5Ed0FaAjCn2",
        "outputId": "ac150e65-b46c-4e5a-e6c3-c7db3981ec1c"
      },
      "execution_count": 5,
      "outputs": [
        {
          "output_type": "stream",
          "name": "stdout",
          "text": [
            "Dimensões: (208, 61)\n",
            "\n",
            "Campos: Index(['Atributo_1', 'Atributo_2', 'Atributo_3', 'Atributo_4', 'Atributo_5',\n",
            "       'Atributo_6', 'Atributo_7', 'Atributo_8', 'Atributo_9', 'Atributo_10',\n",
            "       'Atributo_11', 'Atributo_12', 'Atributo_13', 'Atributo_14',\n",
            "       'Atributo_15', 'Atributo_16', 'Atributo_17', 'Atributo_18',\n",
            "       'Atributo_19', 'Atributo_20', 'Atributo_21', 'Atributo_22',\n",
            "       'Atributo_23', 'Atributo_24', 'Atributo_25', 'Atributo_26',\n",
            "       'Atributo_27', 'Atributo_28', 'Atributo_29', 'Atributo_30',\n",
            "       'Atributo_31', 'Atributo_32', 'Atributo_33', 'Atributo_34',\n",
            "       'Atributo_35', 'Atributo_36', 'Atributo_37', 'Atributo_38',\n",
            "       'Atributo_39', 'Atributo_40', 'Atributo_41', 'Atributo_42',\n",
            "       'Atributo_43', 'Atributo_44', 'Atributo_45', 'Atributo_46',\n",
            "       'Atributo_47', 'Atributo_48', 'Atributo_49', 'Atributo_50',\n",
            "       'Atributo_51', 'Atributo_52', 'Atributo_53', 'Atributo_54',\n",
            "       'Atributo_55', 'Atributo_56', 'Atributo_57', 'Atributo_58',\n",
            "       'Atributo_59', 'Atributo_60', 'Classe'],\n",
            "      dtype='object')\n",
            "\n",
            "\n",
            "       Atributo_1  Atributo_2  Atributo_3  Atributo_4  Atributo_5  Atributo_6  \\\n",
            "count  208.000000  208.000000  208.000000  208.000000  208.000000  208.000000   \n",
            "mean     0.029164    0.038437    0.043832    0.053892    0.075202    0.104570   \n",
            "std      0.022991    0.032960    0.038428    0.046528    0.055552    0.059105   \n",
            "min      0.001500    0.000600    0.001500    0.005800    0.006700    0.010200   \n",
            "25%      0.013350    0.016450    0.018950    0.024375    0.038050    0.067025   \n",
            "50%      0.022800    0.030800    0.034300    0.044050    0.062500    0.092150   \n",
            "75%      0.035550    0.047950    0.057950    0.064500    0.100275    0.134125   \n",
            "max      0.137100    0.233900    0.305900    0.426400    0.401000    0.382300   \n",
            "\n",
            "       Atributo_7  Atributo_8  Atributo_9  Atributo_10  ...  Atributo_51  \\\n",
            "count  208.000000  208.000000  208.000000   208.000000  ...   208.000000   \n",
            "mean     0.121747    0.134799    0.178003     0.208259  ...     0.016069   \n",
            "std      0.061788    0.085152    0.118387     0.134416  ...     0.012008   \n",
            "min      0.003300    0.005500    0.007500     0.011300  ...     0.000000   \n",
            "25%      0.080900    0.080425    0.097025     0.111275  ...     0.008425   \n",
            "50%      0.106950    0.112100    0.152250     0.182400  ...     0.013900   \n",
            "75%      0.154000    0.169600    0.233425     0.268700  ...     0.020825   \n",
            "max      0.372900    0.459000    0.682800     0.710600  ...     0.100400   \n",
            "\n",
            "       Atributo_52  Atributo_53  Atributo_54  Atributo_55  Atributo_56  \\\n",
            "count   208.000000   208.000000   208.000000   208.000000   208.000000   \n",
            "mean      0.013420     0.010709     0.010941     0.009290     0.008222   \n",
            "std       0.009634     0.007060     0.007301     0.007088     0.005736   \n",
            "min       0.000800     0.000500     0.001000     0.000600     0.000400   \n",
            "25%       0.007275     0.005075     0.005375     0.004150     0.004400   \n",
            "50%       0.011400     0.009550     0.009300     0.007500     0.006850   \n",
            "75%       0.016725     0.014900     0.014500     0.012100     0.010575   \n",
            "max       0.070900     0.039000     0.035200     0.044700     0.039400   \n",
            "\n",
            "       Atributo_57  Atributo_58  Atributo_59  Atributo_60  \n",
            "count   208.000000   208.000000   208.000000   208.000000  \n",
            "mean      0.007820     0.007949     0.007941     0.006507  \n",
            "std       0.005785     0.006470     0.006181     0.005031  \n",
            "min       0.000300     0.000300     0.000100     0.000600  \n",
            "25%       0.003700     0.003600     0.003675     0.003100  \n",
            "50%       0.005950     0.005800     0.006400     0.005300  \n",
            "75%       0.010425     0.010350     0.010325     0.008525  \n",
            "max       0.035500     0.044000     0.036400     0.043900  \n",
            "\n",
            "[8 rows x 60 columns]\n"
          ]
        }
      ]
    },
    {
      "cell_type": "code",
      "source": [
        "X = dados.iloc[:, 0:(dados.shape[1] - 1)]\n",
        "\n",
        "le = LabelEncoder()\n",
        "y = le.fit_transform( dados.iloc[:, ( dados.shape[1] - 1 )] )"
      ],
      "metadata": {
        "id": "w5DfNi2dj6Tq"
      },
      "execution_count": 12,
      "outputs": []
    },
    {
      "cell_type": "code",
      "source": [
        "Xtreina, Xteste, ytreina, yteste = train_test_split( X, y, random_state = 0 )\n",
        "\n",
        "arvore = DecisionTreeClassifier( random_state = 0 )\n",
        "\n",
        "parametros = {'criterion':('gini', 'entropy'), 'splitter':('best', 'random'), 'min_samples_leaf': [1, 2, 3, 4, 5]}\n",
        "\n",
        "arvore_gridsearch = GridSearchCV( arvore, param_grid=parametros )\n",
        "\n",
        "y_predito = arvore_gridsearch.fit( Xtreina, ytreina ).predict( Xteste )\n",
        "\n",
        "print( 'Classificado utilizando Árvore de Decisão com Grid Search' )\n",
        "print( 'Os melhores parâmetros encontrados foram : {0}'.format( arvore_gridsearch.best_params_ ))"
      ],
      "metadata": {
        "colab": {
          "base_uri": "https://localhost:8080/"
        },
        "id": "QO1cTi9ok7QV",
        "outputId": "9b3e830f-e390-4a3c-8ac7-61e31c4b6a5f"
      },
      "execution_count": 16,
      "outputs": [
        {
          "output_type": "stream",
          "name": "stdout",
          "text": [
            "Classificado utilizando Árvore de Decisão com Grid Search\n",
            "Os melhores parâmetros encontrados foram : {'criterion': 'entropy', 'min_samples_leaf': 1, 'splitter': 'random'}\n"
          ]
        }
      ]
    }
  ]
}